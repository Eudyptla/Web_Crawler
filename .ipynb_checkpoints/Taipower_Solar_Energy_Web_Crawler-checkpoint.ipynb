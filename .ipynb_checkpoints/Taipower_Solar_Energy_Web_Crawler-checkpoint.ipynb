{
 "cells": [
  {
   "cell_type": "markdown",
   "metadata": {},
   "source": [
    "# Collect Taipower Solar Energy Data"
   ]
  },
  {
   "cell_type": "markdown",
   "metadata": {},
   "source": [
    "Data source: https://www.taipower.com.tw/d006/loadGraph/loadGraph/genshx_.html"
   ]
  },
  {
   "cell_type": "code",
   "execution_count": 1,
   "metadata": {},
   "outputs": [],
   "source": [
    "# import library\n",
    "from bs4 import BeautifulSoup\n",
    "import requests\n",
    "import pandas as pd"
   ]
  },
  {
   "cell_type": "markdown",
   "metadata": {},
   "source": [
    "# Data Collect "
   ]
  },
  {
   "cell_type": "code",
   "execution_count": 2,
   "metadata": {},
   "outputs": [],
   "source": [
    "# analysis html construct get url\n",
    "url = \"https://www.taipower.com.tw/d006/loadGraph/loadGraph/data/genary.txt\"\n",
    "page = requests.get(url)\n",
    "page.encoding = 'utf-8'\n",
    "soup = BeautifulSoup(page.text, 'lxml')"
   ]
  },
  {
   "cell_type": "code",
   "execution_count": 3,
   "metadata": {},
   "outputs": [
    {
     "name": "stdout",
     "output_type": "stream",
     "text": [
      "dict_keys(['金門金沙', '台中生水池', '興達生水池', '嘉義民雄', '中部儲運', '東勢新伯公', '永安鹽灘地', '路北', '中原大學', '大潭生水池', '核三生水池', '七美', '尖山', '卓蘭', '后里', '台中龍井', '七股', '龍潭E/S', '竹工E/S', '中科E/S', '彰林E/S', '高雄E/S', '燕巢倉庫', '大潭', '北儲', '彰濱光', '南鹽光(註10)', '崙尾光'])\n"
     ]
    }
   ],
   "source": [
    "\n",
    "# get text\n",
    "text = soup.get_text()\n",
    "text_list = text.split('[')\n",
    "\n",
    "solar_p = [i for i in text_list[1:] if ('太陽能' in i) & ('小計' not in i) & ('太陽能購電' not in i)]\n",
    "solar_temp = [i.rstrip(', \"],').split(',') for i in solar_p]\n",
    "solar_dict = {i[1].strip(' \" ').rstrip(' \" '): [float(i[3].strip(' \" ').rstrip(' \" '))] for i in solar_temp}\n",
    "print(solar_dict.keys()) # show now power"
   ]
  },
  {
   "cell_type": "code",
   "execution_count": 4,
   "metadata": {},
   "outputs": [
    {
     "name": "stdout",
     "output_type": "stream",
     "text": [
      "2021-10-04 12:50\n"
     ]
    }
   ],
   "source": [
    "# check time\n",
    "time = text_list[0]\n",
    "time_str = ''\n",
    "time = time_str.join(list(filter(lambda ch: ch in '0123456789-: ', time)))\n",
    "time = time.strip(':').rstrip(':')\n",
    "print(time)"
   ]
  },
  {
   "cell_type": "markdown",
   "metadata": {},
   "source": [
    "# Save Data"
   ]
  },
  {
   "cell_type": "code",
   "execution_count": 5,
   "metadata": {},
   "outputs": [
    {
     "name": "stdout",
     "output_type": "stream",
     "text": [
      "                     時間     七美  七美二期     七股   中原大學  中科E/S   中部儲運    北儲     卓蘭  \\\n",
      "42201  2021-05-09 20:30  0.000   NaN  0.000  0.000  0.000  0.000  0.00  0.000   \n",
      "42202  2021-05-09 20:30  0.000   NaN  0.000  0.000  0.000  0.000  0.00  0.000   \n",
      "42203  2021-10-04 12:50  0.054   NaN  1.315  0.025  0.128  0.034  0.69  0.021   \n",
      "42204  2021-10-04 12:50  0.054   NaN  1.315  0.025  0.128  0.034  0.69  0.021   \n",
      "42205  2021-10-04 12:50  0.054   NaN  1.315  0.025  0.128  0.034  0.69  0.021   \n",
      "\n",
      "       台中生水池  ...  竹工E/S  興達生水池     路北   金門金沙  高雄E/S  龍潭E/S    彰濱光  南鹽光(註10)  \\\n",
      "42201  0.000  ...  0.000   0.00  0.000  0.000   0.00  0.000   0.00     0.000   \n",
      "42202  0.000  ...  0.000   0.00  0.000  0.000   0.00  0.000   0.00     0.000   \n",
      "42203  1.316  ...  0.156   0.69  0.032  0.325   0.18  0.115  66.08   106.785   \n",
      "42204  1.316  ...  0.156   0.69  0.032  0.325   0.18  0.115  66.08   106.785   \n",
      "42205  1.316  ...  0.156   0.69  0.032  0.325   0.18  0.115  66.08   106.785   \n",
      "\n",
      "       崙尾光(註10)    崙尾光  \n",
      "42201       0.0    NaN  \n",
      "42202       0.0    NaN  \n",
      "42203       NaN  112.0  \n",
      "42204       NaN  112.0  \n",
      "42205       NaN  112.0  \n",
      "\n",
      "[5 rows x 32 columns]\n"
     ]
    }
   ],
   "source": [
    "# save data\n",
    "my_df = pd.read_csv('data\\solar.csv', encoding='utf-8', index_col=0)\n",
    "solar = pd.DataFrame(solar_dict)\n",
    "solar['時間'] = time\n",
    "my_df = my_df.append(solar, ignore_index=True)\n",
    "first_col = my_df.pop('時間')  # set time as first col\n",
    "my_df.insert(0, '時間', first_col)\n",
    "my_df.to_csv('data\\solar.csv', encoding='utf-8-sig')\n",
    "print(my_df.tail())# show data"
   ]
  },
  {
   "cell_type": "code",
   "execution_count": null,
   "metadata": {},
   "outputs": [],
   "source": []
  },
  {
   "cell_type": "code",
   "execution_count": null,
   "metadata": {},
   "outputs": [],
   "source": []
  }
 ],
 "metadata": {
  "kernelspec": {
   "display_name": "Python 3",
   "language": "python",
   "name": "python3"
  },
  "language_info": {
   "codemirror_mode": {
    "name": "ipython",
    "version": 3
   },
   "file_extension": ".py",
   "mimetype": "text/x-python",
   "name": "python",
   "nbconvert_exporter": "python",
   "pygments_lexer": "ipython3",
   "version": "3.8.3"
  }
 },
 "nbformat": 4,
 "nbformat_minor": 4
}
