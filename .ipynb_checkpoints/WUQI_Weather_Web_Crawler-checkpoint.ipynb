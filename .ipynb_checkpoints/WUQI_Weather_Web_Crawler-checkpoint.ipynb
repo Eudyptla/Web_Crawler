{
 "cells": [
  {
   "cell_type": "markdown",
   "metadata": {},
   "source": [
    "# Collect WUQI Weather Data"
   ]
  },
  {
   "cell_type": "markdown",
   "metadata": {},
   "source": [
    "Data Source : http://e-service.cwb.gov.tw/HistoryDataQuery/DayDataController.do?command=viewMain&station=467770&stname=%25E6%25A2%25A7%25E6%25A3%25B2&datepicker=2016-01-01"
   ]
  },
  {
   "cell_type": "code",
   "execution_count": 1,
   "metadata": {},
   "outputs": [],
   "source": [
    "#import library\n",
    "from bs4 import BeautifulSoup\n",
    "from urllib.request import urlopen\n",
    "import pandas as pd\n",
    "import numpy as np\n",
    "import time"
   ]
  },
  {
   "cell_type": "markdown",
   "metadata": {},
   "source": [
    "# Define Collect Function"
   ]
  },
  {
   "cell_type": "code",
   "execution_count": 2,
   "metadata": {},
   "outputs": [],
   "source": [
    "#function to collect weather information\n",
    "def append_new_data(ori_data, url, append_date):\n",
    "    time.sleep(0.5)\n",
    "    url_date = url + str(append_date)[:11]\n",
    "    end_date = pd.to_datetime([1], unit='D', origin=pd.Timestamp(append_date))\n",
    "    time_hour = pd.date_range(start=append_date, end=end_date[0], freq='H')[1:]\n",
    "    html = urlopen(url_date).read()\n",
    "    soup = BeautifulSoup(html, \"lxml\")\n",
    "    # get columns text\n",
    "    c_tag = soup.find_all(class_='second_tr')\n",
    "    c_text = [i.get_text().split('\\n') for i in c_tag][0]\n",
    "    c_text = [i.replace('\\t', '') for i in c_text if i != '']\n",
    "    # get data value\n",
    "    v_tag = soup.find_all('td')\n",
    "    v_value = [i.get_text().replace('\\xa0', '') for i in v_tag]\n",
    "    data_value = np.array(v_value[10:]).reshape(24, -1)\n",
    "    append_df = pd.DataFrame(data_value, columns=c_text, index=time_hour)\n",
    "    new_df = pd.concat([ori_data, append_df])\n",
    "    return new_df"
   ]
  },
  {
   "cell_type": "code",
   "execution_count": 3,
   "metadata": {},
   "outputs": [
    {
     "name": "stdout",
     "output_type": "stream",
     "text": [
      "[Progress]:[████████████████████]100.00%;"
     ]
    }
   ],
   "source": [
    "#run function to collect data\n",
    "url = \"http://e-service.cwb.gov.tw/HistoryDataQuery/DayDataController.do?command=viewMain&station=467770&stname=%25E6%25A2%25A7%25E6%25A3%25B2&datepicker=\"\n",
    "start_date = '2016-01-01'\n",
    "final_date = '2017-12-31'\n",
    "\n",
    "my_df = pd.DataFrame()\n",
    "time_delta = pd.date_range(start=start_date, end=final_date, freq='D')\n",
    "temp = 1\n",
    "total = len(time_delta)\n",
    "for date_i in time_delta:\n",
    "    my_df = append_new_data(my_df, url, date_i)\n",
    "    print('\\r' + '[Progress]:[%s%s]%.2f%%;' % (\n",
    "    '█' * int(temp*20/total), ' ' * (20-int(temp*20/total)),\n",
    "    float(temp/total*100)), end='')\n",
    "    temp += 1\n",
    "# If you run this cell, waiting 5 minutes.\n"
   ]
  },
  {
   "cell_type": "markdown",
   "metadata": {},
   "source": [
    "# Save Data"
   ]
  },
  {
   "cell_type": "code",
   "execution_count": 4,
   "metadata": {},
   "outputs": [
    {
     "name": "stdout",
     "output_type": "stream",
     "text": [
      "                    觀測時間(hour) 測站氣壓(hPa) 海平面氣壓(hPa) 氣溫(℃) 露點溫度(℃) 相對溼度(%)  \\\n",
      "2017-12-31 20:00:00         20    1017.3     1020.5  15.0     9.6      70   \n",
      "2017-12-31 21:00:00         21    1017.4     1020.6  15.1     9.4      69   \n",
      "2017-12-31 22:00:00         22    1017.5     1020.7  15.1     9.2      68   \n",
      "2017-12-31 23:00:00         23    1017.4     1020.6  15.3     9.3      67   \n",
      "2018-01-01 00:00:00         24    1017.3     1020.5  15.2     9.4      68   \n",
      "\n",
      "                    風速(m/s) 風向(360degree) 最大陣風(m/s) 最大陣風風向(360degree) 降水量(mm)  \\\n",
      "2017-12-31 20:00:00     7.0           360      15.3                30     0.0   \n",
      "2017-12-31 21:00:00     6.8           360      14.8                20     0.0   \n",
      "2017-12-31 22:00:00     6.3           350      13.5               360     0.0   \n",
      "2017-12-31 23:00:00     6.8           360      15.5               350     0.0   \n",
      "2018-01-01 00:00:00     6.1           360      14.6               350     0.0   \n",
      "\n",
      "                    降水時數(h) 日照時數(h) 全天空日射量(MJ/㎡) 能見度(km) 紫外線指數 總雲量(0~10)  \n",
      "2017-12-31 20:00:00     0.0     ...         0.00     ...   ...       ...  \n",
      "2017-12-31 21:00:00     0.0     ...         0.00     ...   ...       ...  \n",
      "2017-12-31 22:00:00     0.0     ...         0.00     ...   ...       ...  \n",
      "2017-12-31 23:00:00     0.0     ...         0.00     ...   ...       ...  \n",
      "2018-01-01 00:00:00     0.0     ...         0.00     ...   ...       ...  \n"
     ]
    }
   ],
   "source": [
    "# save data\n",
    "Location = 'WUQI'\n",
    "my_df.to_csv('data\\\\'+Location+'.csv', encoding='utf-8-sig')\n",
    "print(my_df.tail())"
   ]
  },
  {
   "cell_type": "code",
   "execution_count": null,
   "metadata": {},
   "outputs": [],
   "source": []
  }
 ],
 "metadata": {
  "kernelspec": {
   "display_name": "Python 3",
   "language": "python",
   "name": "python3"
  },
  "language_info": {
   "codemirror_mode": {
    "name": "ipython",
    "version": 3
   },
   "file_extension": ".py",
   "mimetype": "text/x-python",
   "name": "python",
   "nbconvert_exporter": "python",
   "pygments_lexer": "ipython3",
   "version": "3.8.3"
  }
 },
 "nbformat": 4,
 "nbformat_minor": 4
}
