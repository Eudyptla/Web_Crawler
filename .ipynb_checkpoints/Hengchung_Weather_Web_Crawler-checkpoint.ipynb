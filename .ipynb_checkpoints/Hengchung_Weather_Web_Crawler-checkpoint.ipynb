{
 "cells": [
  {
   "cell_type": "markdown",
   "metadata": {},
   "source": [
    "# Collect Hengchun Weather Data"
   ]
  },
  {
   "cell_type": "markdown",
   "metadata": {},
   "source": [
    "Data Sourece: https://www.cwb.gov.tw/V8/E/W/OBS_Station.html?ID=46759"
   ]
  },
  {
   "cell_type": "code",
   "execution_count": 1,
   "metadata": {},
   "outputs": [],
   "source": [
    "# importing modules\n",
    "from bs4 import BeautifulSoup\n",
    "from urllib.request import urlopen\n",
    "import numpy as np\n",
    "import pandas as pd\n",
    "from datetime import datetime"
   ]
  },
  {
   "cell_type": "markdown",
   "metadata": {},
   "source": [
    "# Collect Data"
   ]
  },
  {
   "cell_type": "code",
   "execution_count": 2,
   "metadata": {},
   "outputs": [],
   "source": [
    "# Analysis CSS\n",
    "url = \"https://www.cwb.gov.tw/V8/E/W/Observe/MOD/24hr/46759.html?T=698\"\n",
    "html = urlopen(url).read()\n",
    "soup = BeautifulSoup(html, \"lxml\")"
   ]
  },
  {
   "cell_type": "markdown",
   "metadata": {},
   "source": [
    "# Add Year"
   ]
  },
  {
   "cell_type": "code",
   "execution_count": 3,
   "metadata": {},
   "outputs": [
    {
     "name": "stdout",
     "output_type": "stream",
     "text": [
      "['10/04 14:10', '10/04 14:00', '10/04 13:50', '10/04 13:40', '10/04 13:30']\n"
     ]
    }
   ],
   "source": [
    "#check time \n",
    "time_log = soup.find_all('th')\n",
    "data_time = [i.get_text() for i in time_log]\n",
    "print(data_time[:5])#show head 5 data  "
   ]
  },
  {
   "cell_type": "markdown",
   "metadata": {},
   "source": [
    "Lack of year."
   ]
  },
  {
   "cell_type": "code",
   "execution_count": 4,
   "metadata": {},
   "outputs": [
    {
     "name": "stdout",
     "output_type": "stream",
     "text": [
      "                 time\n",
      "0 2021-10-04 14:10:00\n",
      "1 2021-10-04 14:00:00\n",
      "2 2021-10-04 13:50:00\n",
      "3 2021-10-04 13:40:00\n",
      "4 2021-10-04 13:30:00\n"
     ]
    }
   ],
   "source": [
    "# Add year\n",
    "now_year = str(datetime.now().year) + '/'\n",
    "data_time_year = [now_year + i for i in data_time]\n",
    "data = pd.DataFrame({'time':data_time_year})\n",
    "data['time'] = pd.to_datetime(data['time'])\n",
    "print(data.head())#show head 5 data  "
   ]
  },
  {
   "cell_type": "code",
   "execution_count": 5,
   "metadata": {},
   "outputs": [
    {
     "name": "stdout",
     "output_type": "stream",
     "text": [
      "['hum', 'pre', 'rain', 'sunlight', 'temp', 'visible-1', 'w-1', 'w-2', 'w-3', 'weather']\n"
     ]
    }
   ],
   "source": [
    "soup_td = soup.find_all('td')\n",
    "headers_set = set([i['headers'][0] for i in soup_td])\n",
    "headers_list = list(headers_set)\n",
    "headers_list.sort()\n",
    "print(headers_list)#show headers\n"
   ]
  },
  {
   "cell_type": "code",
   "execution_count": 6,
   "metadata": {},
   "outputs": [
    {
     "name": "stdout",
     "output_type": "stream",
     "text": [
      "                 time hum     pre rain sunlight    temp visible-1  w-1   w-2  \\\n",
      "0 2021-10-04 14:10:00  65  1011.7  0.0      6.4  30.587       >30   NE  4.83   \n",
      "1 2021-10-04 14:00:00  65  1012.0  0.0      6.3  30.787     21-30   NE  4.33   \n",
      "2 2021-10-04 13:50:00  65  1012.2  0.0      6.3  30.687       >30   NE  3.53   \n",
      "3 2021-10-04 13:40:00  66  1012.5  0.0      6.3  30.387       >30   NE  4.13   \n",
      "4 2021-10-04 13:30:00  63  1012.8  0.0      6.3  30.487       >30  ENE  4.73   \n",
      "\n",
      "     w-3 weather  \n",
      "0  10.15          \n",
      "1  12.06          \n",
      "2  12.06          \n",
      "3  11.56          \n",
      "4  11.56          \n"
     ]
    }
   ],
   "source": [
    "for i in headers_list:\n",
    "    data_value = soup.find_all('td', headers=i)\n",
    "    data[i] = [j.get_text() for j in data_value]\n",
    "\n",
    "print(data.head())#show data head"
   ]
  },
  {
   "cell_type": "markdown",
   "metadata": {},
   "source": [
    "# Change Weather Image to Text"
   ]
  },
  {
   "cell_type": "code",
   "execution_count": 7,
   "metadata": {},
   "outputs": [
    {
     "name": "stdout",
     "output_type": "stream",
     "text": [
      "<td class=\"is_show\" headers=\"weather\"><img alt=\"CLOUDY\" src=\"/V8/assets/img/weather_icons/weathers/svg_icon/day/07.svg\" title=\"CLOUDY\"/></td>\n"
     ]
    }
   ],
   "source": [
    "# look weather image data\n",
    "weather_data = soup.find_all('td', headers='weather')\n",
    "print(weather_data[0])#analysis weather"
   ]
  },
  {
   "cell_type": "code",
   "execution_count": 8,
   "metadata": {},
   "outputs": [
    {
     "name": "stdout",
     "output_type": "stream",
     "text": [
      "                   time hum     pre rain sunlight    temp visible-1  w-1  \\\n",
      "145 2021-10-03 14:00:00  64  1012.2  0.0      7.7  30.988     21-30    E   \n",
      "146 2021-10-03 13:50:00  61  1012.3  0.0      7.6  31.388       >30    E   \n",
      "147 2021-10-03 13:40:00  60  1012.4  0.0      7.4  31.088       >30    E   \n",
      "148 2021-10-03 13:30:00  61  1012.5  0.0      7.2  31.489       >30  ENE   \n",
      "149 2021-10-03 13:20:00  56  1012.5  0.0      7.1  31.388       >30  ENE   \n",
      "\n",
      "      w-2    w-3 weather  \n",
      "145  4.83  11.86   CLEAR  \n",
      "146  4.23  10.65   CLEAR  \n",
      "147  4.53   9.75   CLEAR  \n",
      "148  3.93   9.75   CLEAR  \n",
      "149  3.93   9.75   CLEAR  \n"
     ]
    }
   ],
   "source": [
    "# The target is img alt=?.\n",
    "data['weather'] = [i.img['alt'] for i in weather_data]\n",
    "print(data.tail())"
   ]
  },
  {
   "cell_type": "markdown",
   "metadata": {},
   "source": [
    "# Save Data"
   ]
  },
  {
   "cell_type": "code",
   "execution_count": 9,
   "metadata": {},
   "outputs": [
    {
     "name": "stdout",
     "output_type": "stream",
     "text": [
      "                    time hum     pre rain sunlight    temp visible-1  w-1  \\\n",
      "1323 2021-10-04 13:30:00  63  1012.8  0.0      6.3  30.487       >30  ENE   \n",
      "1353 2021-10-04 13:40:00  66  1012.5  0.0      6.3  30.387       >30   NE   \n",
      "1352 2021-10-04 13:50:00  65  1012.2  0.0      6.3  30.687       >30   NE   \n",
      "1346 2021-10-04 14:00:00  65  1012.0  0.0      6.3  30.787     21-30   NE   \n",
      "1348 2021-10-04 14:10:00  65  1011.7  0.0      6.4  30.587       >30   NE   \n",
      "\n",
      "       w-2    w-3        weather  \n",
      "1323  4.73  11.56  PARTLY CLOUDY  \n",
      "1353  4.13  11.56         CLOUDY  \n",
      "1352  3.53  12.06         CLOUDY  \n",
      "1346  4.33  12.06  PARTLY CLOUDY  \n",
      "1348  4.83  10.15         CLOUDY  \n"
     ]
    }
   ],
   "source": [
    "df = pd.read_csv('data\\CWB_Hengchun.csv', encoding='utf-8-sig', index_col=0 ,parse_dates=['time'])\n",
    "new_df = df.append(data, ignore_index=True)\n",
    "new_df.sort_values(by=['time'], inplace=True, ascending=True, key=pd.to_datetime)\n",
    "new_df.drop_duplicates(inplace=True)\n",
    "print(new_df.tail())\n",
    "new_df.to_csv('data\\CWB_Hengchun.csv', encoding='utf-8-sig')"
   ]
  },
  {
   "cell_type": "code",
   "execution_count": null,
   "metadata": {},
   "outputs": [],
   "source": []
  }
 ],
 "metadata": {
  "kernelspec": {
   "display_name": "Python 3",
   "language": "python",
   "name": "python3"
  },
  "language_info": {
   "codemirror_mode": {
    "name": "ipython",
    "version": 3
   },
   "file_extension": ".py",
   "mimetype": "text/x-python",
   "name": "python",
   "nbconvert_exporter": "python",
   "pygments_lexer": "ipython3",
   "version": "3.8.3"
  }
 },
 "nbformat": 4,
 "nbformat_minor": 4
}
