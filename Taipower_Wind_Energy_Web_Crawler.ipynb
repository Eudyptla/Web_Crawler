{
 "cells": [
  {
   "cell_type": "markdown",
   "metadata": {},
   "source": [
    "# Collect Taipower Wind Energy Data"
   ]
  },
  {
   "cell_type": "markdown",
   "metadata": {},
   "source": [
    "Data source: https://www.taipower.com.tw/d006/loadGraph/loadGraph/genshx_.html"
   ]
  },
  {
   "cell_type": "code",
   "execution_count": 1,
   "metadata": {},
   "outputs": [],
   "source": [
    "# import module\n",
    "from bs4 import BeautifulSoup\n",
    "import requests\n",
    "import pandas as pd"
   ]
  },
  {
   "cell_type": "markdown",
   "metadata": {},
   "source": [
    "# Data Collect"
   ]
  },
  {
   "cell_type": "code",
   "execution_count": 2,
   "metadata": {},
   "outputs": [],
   "source": [
    "# analysis html construct get url\n",
    "url = \"https://www.taipower.com.tw/d006/loadGraph/loadGraph/data/genary.txt\"\n",
    "page = requests.get(url)\n",
    "page.encoding = 'utf-8'\n",
    "soup = BeautifulSoup(page.text, 'lxml')"
   ]
  },
  {
   "cell_type": "code",
   "execution_count": 3,
   "metadata": {},
   "outputs": [
    {
     "name": "stdout",
     "output_type": "stream",
     "text": [
      "dict_keys(['石門', '林口', '蘆竹', '大潭', '觀園', '香山', '台中', '台中港', '王功', '彰工', '永興', '離岸一期(註10)', '雲麥', '四湖', '恆春', '澎湖中屯', '金門金沙', '澎湖湖西', '苗栗竹南', '苗栗大鵬', '鹿威彰濱', '鹿威鹿港', '觀威觀音&桃威新屋', '中威大安', '崎威崎頂', '豐威', '龍威後龍', '苗栗通苑', '安威', '清風清水', '東鋼龍港', '海洋竹南', '禾風麥寮', '創維麥寮'])\n"
     ]
    }
   ],
   "source": [
    "# get text\n",
    "text = soup.get_text()\n",
    "text_list = text.split('[')\n",
    "# clean useless data and get wind power\n",
    "wind_temp = [i for i in text_list if ('風力' in i) & ('小計' not in i)]\n",
    "wind_temp = [i.rstrip(', \"],').split(',') for i in wind_temp]\n",
    "wind = {i[1].strip(' \" ').rstrip(' \" '): [float(i[3].strip(' \" ').rstrip(' \" '))] for i in wind_temp}\n",
    "print(wind.keys()) # show wind data"
   ]
  },
  {
   "cell_type": "code",
   "execution_count": 4,
   "metadata": {},
   "outputs": [
    {
     "name": "stdout",
     "output_type": "stream",
     "text": [
      "2021-10-04 13:00\n"
     ]
    }
   ],
   "source": [
    "# check time\n",
    "time = text_list[0]\n",
    "time_str = ''\n",
    "time = time_str.join(list(filter(lambda ch: ch in '0123456789-: ', time)))\n",
    "time = time.strip(':').rstrip(':')\n",
    "print(time)#show time"
   ]
  },
  {
   "cell_type": "markdown",
   "metadata": {},
   "source": [
    "# Save Data"
   ]
  },
  {
   "cell_type": "code",
   "execution_count": 5,
   "metadata": {},
   "outputs": [
    {
     "name": "stdout",
     "output_type": "stream",
     "text": [
      "                     時間  中威大安   台中  台中港   四湖   大潭   安威  崎威崎頂   彰工   恆春  ...  \\\n",
      "26089  2021-03-01 18:50   3.7  0.0  0.0  0.0  2.0  0.1   0.3  0.0  0.0  ...   \n",
      "26090  2021-03-01 18:50   3.7  0.0  0.0  0.0  2.0  0.1   0.3  0.0  0.0  ...   \n",
      "26091  2021-03-01 18:50   3.7  0.0  0.0  0.0  2.0  0.1   0.3  0.0  0.0  ...   \n",
      "26092  2021-05-09 21:00   0.0  0.0  0.0  1.5  1.2  0.0   0.1  0.0  0.4  ...   \n",
      "26093  2021-10-04 13:00   3.9  0.0  1.5  1.5  1.5  0.0   0.2  4.3  2.1  ...   \n",
      "\n",
      "        豐威  金門金沙   雲麥   香山  鹿威彰濱  鹿威鹿港  龍威後龍   永興  離岸一期(註10)  創維麥寮  \n",
      "26089  1.0   0.0  0.0  0.0   0.0   0.6   2.3  0.0        0.0   NaN  \n",
      "26090  1.0   0.0  0.0  0.0   0.0   0.6   2.3  0.0        0.0   NaN  \n",
      "26091  1.0   0.0  0.0  0.0   0.0   0.6   2.3  0.0        0.0   NaN  \n",
      "26092  0.4   0.0  0.5  0.0   0.0   0.6   0.5  0.1        0.0   NaN  \n",
      "26093  1.0   2.7  2.3  0.0   1.4   1.7   0.8  0.0        0.0   0.0  \n",
      "\n",
      "[5 rows x 36 columns]\n"
     ]
    }
   ],
   "source": [
    "# save data\n",
    "my_df = pd.read_csv('data\\\\wind.csv', encoding='utf-8', index_col=0)\n",
    "wind = pd.DataFrame(wind)\n",
    "wind['時間'] = time\n",
    "my_df = my_df.append(wind, ignore_index=True)\n",
    "first_col = my_df.pop('時間')  # set time as first col\n",
    "my_df.insert(0, '時間', first_col)\n",
    "my_df.to_csv('data\\wind.csv', encoding='utf-8-sig')\n",
    "print(my_df.tail()) #show data"
   ]
  },
  {
   "cell_type": "code",
   "execution_count": null,
   "metadata": {},
   "outputs": [],
   "source": []
  }
 ],
 "metadata": {
  "kernelspec": {
   "display_name": "Python 3",
   "language": "python",
   "name": "python3"
  },
  "language_info": {
   "codemirror_mode": {
    "name": "ipython",
    "version": 3
   },
   "file_extension": ".py",
   "mimetype": "text/x-python",
   "name": "python",
   "nbconvert_exporter": "python",
   "pygments_lexer": "ipython3",
   "version": "3.8.3"
  }
 },
 "nbformat": 4,
 "nbformat_minor": 4
}
